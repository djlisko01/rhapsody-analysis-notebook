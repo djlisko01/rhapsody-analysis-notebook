{
 "cells": [
  {
   "cell_type": "code",
   "execution_count": 1,
   "id": "6a05c698-1433-4519-a074-1d179884e78f",
   "metadata": {},
   "outputs": [],
   "source": [
    "import scanpy as sc\n",
    "import numpy as np\n",
    "import pandas as pd\n",
    "import matplotlib.pyplot as plt\n",
    "import seaborn as sns\n",
    "import os"
   ]
  },
  {
   "cell_type": "code",
   "execution_count": null,
   "id": "9533f31b-cf85-407b-b841-3cb29da9b8c2",
   "metadata": {},
   "outputs": [],
   "source": [
    "# Load the data files\n",
    "- For the gex"
   ]
  },
  {
   "cell_type": "code",
   "execution_count": 7,
   "id": "0eecd5d4-20ba-4169-a0a2-06197309b3ed",
   "metadata": {},
   "outputs": [],
   "source": [
    "file_path_adt = \"../data/raw_data/121c_ADT_raw.h5ad\"\n",
    "file_path_gex = \"../data/qc_data/121c_quality_control.h5ad\"\n",
    "\n",
    "adata_adt = sc.read_h5ad(file_path_adt)\n",
    "adata_rna = sc.read_h5ad(file_path_gex)"
   ]
  },
  {
   "cell_type": "code",
   "execution_count": null,
   "id": "b8068aad-4c1b-4cfe-81b5-c507dbc36642",
   "metadata": {},
   "outputs": [],
   "source": []
  }
 ],
 "metadata": {
  "kernelspec": {
   "display_name": "Python 3 (ipykernel)",
   "language": "python",
   "name": "python3"
  },
  "language_info": {
   "codemirror_mode": {
    "name": "ipython",
    "version": 3
   },
   "file_extension": ".py",
   "mimetype": "text/x-python",
   "name": "python",
   "nbconvert_exporter": "python",
   "pygments_lexer": "ipython3",
   "version": "3.11.4"
  }
 },
 "nbformat": 4,
 "nbformat_minor": 5
}
